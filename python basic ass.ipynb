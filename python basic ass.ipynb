{
 "cells": [
  {
   "cell_type": "raw",
   "id": "f8b6cf98-bcb7-41a9-94f1-69854ef2aba9",
   "metadata": {},
   "source": [
    "#python basic assignment"
   ]
  },
  {
   "cell_type": "markdown",
   "id": "c6b1f436-a0d6-497a-bd5b-f38a4d0736fb",
   "metadata": {},
   "source": [
    "1) Explain the key featu$es of Python that make it a popular choice for programming ?\n",
    "\n",
    "> Python as a programming language is easy to understand and write.\n",
    "\n",
    ">Python has a large community of developers, an extensive standard library, and third-party packages for various domains. "
   ]
  },
  {
   "cell_type": "markdown",
   "id": "3c01c706-fd22-4a8e-b3c2-ac7c58f8ce14",
   "metadata": {},
   "source": [
    "2)Describe the role of  predefined keywords in Python and provide examples of how they are used in a\n",
    "program ?\n",
    "\n",
    "> Keywords are specific words in Python that a have a particular function to perform and they cannot be used like identifiers.\n",
    "> Examples of keywords include if, else, while, for, def, class, import, try, except, return, True, False, None, etc\n",
    "> Example\n",
    "   a = 4\n",
    "   if a= 5:\n",
    "    print('hi')\n",
    "   else:\n",
    "    print('no')\n",
    "\n",
    " \n"
   ]
  },
  {
   "cell_type": "markdown",
   "id": "188a1c82-7b6d-4942-91cf-1ac73c72589b",
   "metadata": {},
   "source": [
    "3)Compare and contrast mutable and imutable objects in Python with examples\n",
    "  \n",
    "> Mutable objects are lists and dictionaries they can be modified after creation, while immutable objects, such as tuples and strings, cannot. \n",
    "Mutability affects how objects are stored and manipulated in memory, impacting performance, memory usage, and concurrency in Python programs. \n"
   ]
  },
  {
   "cell_type": "markdown",
   "id": "7165b153-448d-4088-b892-ec9390a4b694",
   "metadata": {},
   "source": [
    "4) Discuss the different types of operators in Python and provide examples of how they are used\n",
    "\n",
    ">  Operators are special symbols that are perform specific actions on numbers or variables in Python expressions. \n",
    " \n",
    "> Python supports various types of operators, including arithmetic operators (+, -, *, /)\n",
    "> comparison operators (==, !=, <, >)\n",
    "> logical operators (and, or, not)\n",
    "> assignment operators (=, +=, -=, *=, /=), etc.\n",
    "\n"
   ]
  },
  {
   "cell_type": "markdown",
   "id": "5b7d8927-f8a5-4dda-aa18-4d6144582a06",
   "metadata": {},
   "source": [
    "5) Explain the concept of type casting in Python with examples ?\n",
    "\n",
    "> Type casting, also referred to as type conversion, is the process of changing one data type to another in Python. \n",
    "Python provides built-in functions for type casting, such as int(), float(), str(), list(), tuple(), dict(), etc.\n",
    "Type casting is often necessary for performing arithmetic operations, data manipulation, and input/output operations in Python programs.\n"
   ]
  },
  {
   "cell_type": "markdown",
   "id": "00556058-68e0-4ec3-b33c-a94026f1faa1",
   "metadata": {},
   "source": [
    "6) How do conditional statements work in Python? Illustrate with examples ?\n",
    "\n",
    "> Conditionals in Python are used to execute code based on the evaluation of one or more conditions.\n",
    " \n",
    "> Python supports conditional statements such as if, elif (else if), and else to control the flow of execution.\n",
    "> Conditionals can be nested to handle multiple conditions and control different branches of execution based on the outcome of logical expressions.\n",
    "\n",
    "\n",
    "\n",
    "\n"
   ]
  },
  {
   "cell_type": "code",
   "execution_count": 2,
   "id": "d8863760-6ddc-49d0-a9da-dab0f7a587e9",
   "metadata": {},
   "outputs": [
    {
     "name": "stdout",
     "output_type": "stream",
     "text": [
      "it is a positive integer\n"
     ]
    }
   ],
   "source": [
    "a= 5\n",
    "if a > 0:\n",
    "    print('it is a positive integer')\n",
    "elif a< 0:\n",
    "    print('it is a negative integer')\n",
    "else:\n",
    "    print('it is a zero')"
   ]
  },
  {
   "cell_type": "markdown",
   "id": "79921fb7-6c4e-4f7d-9b0e-31f622f9e867",
   "metadata": {},
   "source": [
    "7) Describe the different types of loops in Python and theirs use cases with examples.\n",
    "\n",
    "> In Python, loops are employed to repeat a sequence of actions or code until a specific condition is fulfilled. \n",
    "Python offers two primary types of loops: for loops and while loops. \n",
    "“for” loops are used for iterating over a sequence of elements, while “while” loops are used for executing code until a specified condition becomes False\n"
   ]
  },
  {
   "cell_type": "code",
   "execution_count": 1,
   "id": "a8290747-2b2f-4850-b715-e26642ead4ec",
   "metadata": {},
   "outputs": [
    {
     "name": "stdout",
     "output_type": "stream",
     "text": [
      "4\n",
      "5\n",
      "6\n",
      "7\n",
      "7\n"
     ]
    }
   ],
   "source": [
    "l= [2,3,4,5,5]\n",
    "for i in l:\n",
    "    print(i+2)"
   ]
  },
  {
   "cell_type": "code",
   "execution_count": null,
   "id": "9c734baf-205a-4d2d-996a-59907356d206",
   "metadata": {},
   "outputs": [],
   "source": []
  }
 ],
 "metadata": {
  "kernelspec": {
   "display_name": "Python 3 (ipykernel)",
   "language": "python",
   "name": "python3"
  },
  "language_info": {
   "codemirror_mode": {
    "name": "ipython",
    "version": 3
   },
   "file_extension": ".py",
   "mimetype": "text/x-python",
   "name": "python",
   "nbconvert_exporter": "python",
   "pygments_lexer": "ipython3",
   "version": "3.10.8"
  }
 },
 "nbformat": 4,
 "nbformat_minor": 5
}
